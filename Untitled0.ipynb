{
 "metadata": {
  "name": "",
  "signature": "sha256:b1e32b426082d56b13c398b1f3c8dc6abbf2e87c5ad1f3c22288ce836c6982ce"
 },
 "nbformat": 3,
 "nbformat_minor": 0,
 "worksheets": [
  {
   "cells": [
    {
     "cell_type": "code",
     "collapsed": false,
     "input": [
      "import numpy as np\n",
      "import scipy.io\n",
      "import matplotlib.pyplot as plt\n",
      "from PIL import Image\n",
      "\n",
      "# % MNIST digits\n",
      "\n",
      "matInput = scipy.io.loadmat('digit_100_train_easy')\n",
      "train_data = matInput['train_data']\n",
      "label_train = matInput['label_train']\n",
      "\n",
      "# % choose which two digits to compare:\n",
      "mm=2;\n",
      "nn=27;\n",
      "\n",
      "# %%%Define flags and parameters:\n",
      "\n",
      "display_flag=1;\n",
      "affine_start_flag=1;\n",
      "polarity_flag=1;\n",
      "nsamp=100;\n",
      "eps_dum=0.25;\n",
      "ndum_frac=0.25;        \n",
      "mean_dist_global=[];\n",
      "ori_weight=0.1;\n",
      "nbins_theta=12;\n",
      "nbins_r=5;\n",
      "r_inner=1/8;\n",
      "r_outer=2;\n",
      "tan_eps=1.0;\n",
      "n_iter=6;\n",
      "beta_init=1;\n",
      "r=1; # annealing rate\n",
      "w=4;\n",
      "sf=2.5; #scale factor\n",
      "# \n",
      "\n",
      "plt.gray()\n",
      "# # \n",
      "# # %%%\n",
      "# # %%% image loading\n",
      "# # %%%\n",
      "V1 = np.reshape(train_data[mm,:],(28,28)); #Reshape the row vector of image 1x784 into 28x28\n",
      "V1 = scipy.misc.imresize(V1,sf,'bilinear'); #Scale the image to 70x70 using bilinear interpolation\n",
      "\n",
      "plt.imshow(V1)\n",
      "plt.show()\n",
      "\n",
      "V2 = np.reshape(train_data[nn,:],(28,28));#Reshape the row vector of image 1x784 into 28x28\n",
      "V2 = scipy.misc.imresize(V2,sf,'bilinear'); #Scale the image to 70x70 using bilinear interpolation\n",
      "# [N1,N2]=size(V1);%n1=70 , N2=70\n",
      "\n",
      "plt.imshow(V2)\n",
      "plt.show()\n"
     ],
     "language": "python",
     "metadata": {},
     "outputs": [
      {
       "ename": "AttributeError",
       "evalue": "'numpy.ndarray' object has no attribute 'dim'",
       "output_type": "pyerr",
       "traceback": [
        "\u001b[0;31m---------------------------------------------------------------------------\u001b[0m\n\u001b[0;31mAttributeError\u001b[0m                            Traceback (most recent call last)",
        "\u001b[0;32m<ipython-input-29-2a60aa5d1387>\u001b[0m in \u001b[0;36m<module>\u001b[0;34m()\u001b[0m\n\u001b[1;32m      1\u001b[0m \u001b[0mv1\u001b[0m \u001b[0;34m=\u001b[0m \u001b[0mnp\u001b[0m\u001b[0;34m.\u001b[0m\u001b[0marray\u001b[0m\u001b[0;34m(\u001b[0m\u001b[0;34m[\u001b[0m\u001b[0;34m[\u001b[0m\u001b[0;36m1\u001b[0m\u001b[0;34m,\u001b[0m \u001b[0;36m2\u001b[0m\u001b[0;34m]\u001b[0m\u001b[0;34m,\u001b[0m \u001b[0;34m[\u001b[0m\u001b[0;36m3\u001b[0m\u001b[0;34m,\u001b[0m \u001b[0;36m4\u001b[0m\u001b[0;34m]\u001b[0m\u001b[0;34m]\u001b[0m\u001b[0;34m)\u001b[0m\u001b[0;34m\u001b[0m\u001b[0m\n\u001b[0;32m----> 2\u001b[0;31m \u001b[0mv1\u001b[0m\u001b[0;34m.\u001b[0m\u001b[0mdim\u001b[0m\u001b[0;34m\u001b[0m\u001b[0m\n\u001b[0m",
        "\u001b[0;31mAttributeError\u001b[0m: 'numpy.ndarray' object has no attribute 'dim'"
       ]
      }
     ],
     "prompt_number": 29
    },
    {
     "cell_type": "code",
     "collapsed": false,
     "input": [],
     "language": "python",
     "metadata": {},
     "outputs": [],
     "prompt_number": 29
    },
    {
     "cell_type": "code",
     "collapsed": false,
     "input": [],
     "language": "python",
     "metadata": {},
     "outputs": [
      {
       "ename": "ImportError",
       "evalue": "No module named pil",
       "output_type": "pyerr",
       "traceback": [
        "\u001b[0;31m---------------------------------------------------------------------------\u001b[0m\n\u001b[0;31mImportError\u001b[0m                               Traceback (most recent call last)",
        "\u001b[0;32m<ipython-input-13-2fdcc9532329>\u001b[0m in \u001b[0;36m<module>\u001b[0;34m()\u001b[0m\n\u001b[0;32m----> 1\u001b[0;31m \u001b[0;32mimport\u001b[0m \u001b[0mpil\u001b[0m\u001b[0;34m\u001b[0m\u001b[0m\n\u001b[0m",
        "\u001b[0;31mImportError\u001b[0m: No module named pil"
       ]
      }
     ],
     "prompt_number": 13
    },
    {
     "cell_type": "code",
     "collapsed": false,
     "input": [],
     "language": "python",
     "metadata": {},
     "outputs": []
    }
   ],
   "metadata": {}
  }
 ]
}